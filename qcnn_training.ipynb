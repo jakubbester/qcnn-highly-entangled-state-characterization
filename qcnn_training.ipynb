{
 "cells": [
  {
   "attachments": {},
   "cell_type": "markdown",
   "metadata": {},
   "source": [
    "## QCNN implementation"
   ]
  },
  {
   "cell_type": "code",
   "execution_count": 1,
   "metadata": {},
   "outputs": [],
   "source": [
    "import matplotlib.pyplot as plt\n",
    "from torchquantum.plugins import op_history2qasm\n",
    "from source.models import *\n",
    "from source.state_prep import *\n",
    "from source.train_funcs import *\n",
    "from tabulate import tabulate\n",
    "from texttable import Texttable"
   ]
  },
  {
   "attachments": {},
   "cell_type": "markdown",
   "metadata": {},
   "source": [
    "### Calling model and training"
   ]
  },
  {
   "cell_type": "code",
   "execution_count": 3,
   "metadata": {},
   "outputs": [
    {
     "data": {
      "application/vnd.jupyter.widget-view+json": {
       "model_id": "5250bd9d106f484c9602352a37625b96",
       "version_major": 2,
       "version_minor": 0
      },
      "text/plain": [
       "  0%|          | 0/1 [00:00<?, ?it/s]"
      ]
     },
     "metadata": {},
     "output_type": "display_data"
    },
    {
     "name": "stdout",
     "output_type": "stream",
     "text": [
      "epoch: 0, loss: 0.6801754236221313\n"
     ]
    }
   ],
   "source": [
    "n_qubits = 8\n",
    "n_cycles = 4\n",
    "\n",
    "circuit_builder = MajoranaCircuit\n",
    "model = VQCNN_Parameterized(circuit_builder, n_qubits = n_qubits, n_cycles = n_cycles) # model that we're using\n",
    "train_load, train_lab, test_load, test_lab = circuit_builder(n_qubits, n_cycles).generate_data(n_points=5, train_split=0.8)\n",
    "model, preds, accuracy = train(model, train_load, train_lab, epochs=1, lr=5e-3)"
   ]
  },
  {
   "attachments": {},
   "cell_type": "markdown",
   "metadata": {},
   "source": [
    "### Model benchmarking"
   ]
  },
  {
   "cell_type": "code",
   "execution_count": 6,
   "metadata": {},
   "outputs": [
    {
     "data": {
      "application/vnd.jupyter.widget-view+json": {
       "model_id": "64b3855b7f8145c2aa790942cf6a0bd3",
       "version_major": 2,
       "version_minor": 0
      },
      "text/plain": [
       "  0%|          | 0/1 [00:00<?, ?it/s]"
      ]
     },
     "metadata": {},
     "output_type": "display_data"
    },
    {
     "name": "stdout",
     "output_type": "stream",
     "text": [
      "epoch: 0, loss: 0.6679816842079163\n"
     ]
    },
    {
     "data": {
      "application/vnd.jupyter.widget-view+json": {
       "model_id": "36a0dbb02b2e4acc881bea91b3fe8d43",
       "version_major": 2,
       "version_minor": 0
      },
      "text/plain": [
       "  0%|          | 0/1 [00:00<?, ?it/s]"
      ]
     },
     "metadata": {},
     "output_type": "display_data"
    },
    {
     "name": "stdout",
     "output_type": "stream",
     "text": [
      "epoch: 0, loss: 0.606852114200592\n"
     ]
    },
    {
     "data": {
      "application/vnd.jupyter.widget-view+json": {
       "model_id": "db7c6b61eb784a5583665534aab1d2b9",
       "version_major": 2,
       "version_minor": 0
      },
      "text/plain": [
       "  0%|          | 0/1 [00:00<?, ?it/s]"
      ]
     },
     "metadata": {},
     "output_type": "display_data"
    },
    {
     "name": "stdout",
     "output_type": "stream",
     "text": [
      "epoch: 0, loss: 0.8333927392959595\n"
     ]
    },
    {
     "data": {
      "application/vnd.jupyter.widget-view+json": {
       "model_id": "cc6878f3eaed46cfb083ee9524dae539",
       "version_major": 2,
       "version_minor": 0
      },
      "text/plain": [
       "  0%|          | 0/1 [00:00<?, ?it/s]"
      ]
     },
     "metadata": {},
     "output_type": "display_data"
    },
    {
     "name": "stdout",
     "output_type": "stream",
     "text": [
      "epoch: 0, loss: 0.7687122821807861\n"
     ]
    },
    {
     "data": {
      "application/vnd.jupyter.widget-view+json": {
       "model_id": "2e81b23f6ac24373beaa2c37e505f673",
       "version_major": 2,
       "version_minor": 0
      },
      "text/plain": [
       "  0%|          | 0/1 [00:00<?, ?it/s]"
      ]
     },
     "metadata": {},
     "output_type": "display_data"
    },
    {
     "name": "stdout",
     "output_type": "stream",
     "text": [
      "epoch: 0, loss: 0.7133960723876953\n"
     ]
    },
    {
     "data": {
      "application/vnd.jupyter.widget-view+json": {
       "model_id": "d98932a9ec7e4ba18d1e6271e2ef0e9e",
       "version_major": 2,
       "version_minor": 0
      },
      "text/plain": [
       "  0%|          | 0/1 [00:00<?, ?it/s]"
      ]
     },
     "metadata": {},
     "output_type": "display_data"
    },
    {
     "ename": "TypeError",
     "evalue": "MajoranaCircuit.generate_circuit() missing 1 required positional argument: 'x'",
     "output_type": "error",
     "traceback": [
      "\u001b[0;31m---------------------------------------------------------------------------\u001b[0m",
      "\u001b[0;31mTypeError\u001b[0m                                 Traceback (most recent call last)",
      "Cell \u001b[0;32mIn[6], line 26\u001b[0m\n\u001b[1;32m     24\u001b[0m \u001b[39mfor\u001b[39;00m network \u001b[39min\u001b[39;00m models_to_benchmark:\n\u001b[1;32m     25\u001b[0m     model \u001b[39m=\u001b[39m network(circuit_builder)\n\u001b[0;32m---> 26\u001b[0m     model, preds, train_accuracy \u001b[39m=\u001b[39m train(model, train_load, train_lab, epochs\u001b[39m=\u001b[39;49mepochs, lr\u001b[39m=\u001b[39;49mlr)\n\u001b[1;32m     27\u001b[0m     preds, test_accuracy \u001b[39m=\u001b[39m test(model, test_load, test_lab)\n\u001b[1;32m     28\u001b[0m     train_acc\u001b[39m.\u001b[39mappend(train_accuracy)\n",
      "File \u001b[0;32m~/Desktop/Deep_Learning/qcnn-highly-entangled-state-characterization/source/train_funcs.py:38\u001b[0m, in \u001b[0;36mtrain\u001b[0;34m(model, trainloader, train_labels, epochs, lr, device)\u001b[0m\n\u001b[1;32m     35\u001b[0m target \u001b[39m=\u001b[39m train_labels[i]\n\u001b[1;32m     37\u001b[0m \u001b[39m# running QCNN on input state\u001b[39;00m\n\u001b[0;32m---> 38\u001b[0m pred \u001b[39m=\u001b[39m model(\u001b[39minput\u001b[39;49m)[\u001b[39m0\u001b[39m]\n\u001b[1;32m     39\u001b[0m \u001b[39mif\u001b[39;00m epoch \u001b[39m==\u001b[39m epochs\u001b[39m-\u001b[39m\u001b[39m1\u001b[39m:\n\u001b[1;32m     40\u001b[0m     preds\u001b[39m.\u001b[39mappend(pred)\n",
      "File \u001b[0;32m~/anaconda3/envs/dl_env/lib/python3.10/site-packages/torch/nn/modules/module.py:1194\u001b[0m, in \u001b[0;36mModule._call_impl\u001b[0;34m(self, *input, **kwargs)\u001b[0m\n\u001b[1;32m   1190\u001b[0m \u001b[39m# If we don't have any hooks, we want to skip the rest of the logic in\u001b[39;00m\n\u001b[1;32m   1191\u001b[0m \u001b[39m# this function, and just call forward.\u001b[39;00m\n\u001b[1;32m   1192\u001b[0m \u001b[39mif\u001b[39;00m \u001b[39mnot\u001b[39;00m (\u001b[39mself\u001b[39m\u001b[39m.\u001b[39m_backward_hooks \u001b[39mor\u001b[39;00m \u001b[39mself\u001b[39m\u001b[39m.\u001b[39m_forward_hooks \u001b[39mor\u001b[39;00m \u001b[39mself\u001b[39m\u001b[39m.\u001b[39m_forward_pre_hooks \u001b[39mor\u001b[39;00m _global_backward_hooks\n\u001b[1;32m   1193\u001b[0m         \u001b[39mor\u001b[39;00m _global_forward_hooks \u001b[39mor\u001b[39;00m _global_forward_pre_hooks):\n\u001b[0;32m-> 1194\u001b[0m     \u001b[39mreturn\u001b[39;00m forward_call(\u001b[39m*\u001b[39;49m\u001b[39minput\u001b[39;49m, \u001b[39m*\u001b[39;49m\u001b[39m*\u001b[39;49mkwargs)\n\u001b[1;32m   1195\u001b[0m \u001b[39m# Do not call functions when jit is used\u001b[39;00m\n\u001b[1;32m   1196\u001b[0m full_backward_hooks, non_full_backward_hooks \u001b[39m=\u001b[39m [], []\n",
      "File \u001b[0;32m~/Desktop/Deep_Learning/qcnn-highly-entangled-state-characterization/source/models.py:745\u001b[0m, in \u001b[0;36mQCNN_Diff.forward\u001b[0;34m(self, x)\u001b[0m\n\u001b[1;32m    742\u001b[0m qdev \u001b[39m=\u001b[39m tq\u001b[39m.\u001b[39mQuantumDevice(n_wires\u001b[39m=\u001b[39m\u001b[39mself\u001b[39m\u001b[39m.\u001b[39mn_qubits, device \u001b[39m=\u001b[39m \u001b[39m'\u001b[39m\u001b[39mcpu\u001b[39m\u001b[39m'\u001b[39m)\n\u001b[1;32m    744\u001b[0m \u001b[39m# prepare majorana circuit\u001b[39;00m\n\u001b[0;32m--> 745\u001b[0m qdev \u001b[39m=\u001b[39m \u001b[39mself\u001b[39;49m\u001b[39m.\u001b[39;49mcircuit_builder\u001b[39m.\u001b[39;49mgenerate_circuit(qdev)\n\u001b[1;32m    747\u001b[0m \u001b[39m# Create copies of circuit for parallel feature maps\u001b[39;00m\n\u001b[1;32m    748\u001b[0m qdev1 \u001b[39m=\u001b[39m copy\u001b[39m.\u001b[39mdeepcopy(qdev)\n",
      "\u001b[0;31mTypeError\u001b[0m: MajoranaCircuit.generate_circuit() missing 1 required positional argument: 'x'"
     ]
    }
   ],
   "source": [
    "# hyperparameters\n",
    "lr = 5e-3\n",
    "epochs = 1\n",
    "train_split = 0.8\n",
    "n_points = 5\n",
    "\n",
    "# params\n",
    "n_qubits = 8\n",
    "n_cycles = 4\n",
    "\n",
    "# calling different models\n",
    "models_to_benchmark = [QCNN_Base, QCNN_ZNOTY, Classical_NN, QCNN_Pure, QCNN_Shared, QCNN_Diff, QCNN_ZNOTY_Diff]\n",
    "\n",
    "# getting train/test data\n",
    "circuit_builder = MajoranaCircuit\n",
    "model = QCNN_Base(circuit_builder, n_qubits, n_cycles)\n",
    "train_load, train_lab, test_load, test_lab = circuit_builder(n_qubits, n_cycles).generate_data(n_points=n_points, train_split=train_split)\n",
    "\n",
    "# objects to store results\n",
    "train_acc = []\n",
    "test_acc = []\n",
    "\n",
    "# benchmarking models\n",
    "for network in models_to_benchmark:\n",
    "    model = network(circuit_builder)\n",
    "    model, preds, train_accuracy = train(model, train_load, train_lab, epochs=epochs, lr=lr)\n",
    "    preds, test_accuracy = test(model, test_load, test_lab)\n",
    "    train_acc.append(train_accuracy)\n",
    "    test_acc.append(test_accuracy)"
   ]
  },
  {
   "attachments": {},
   "cell_type": "markdown",
   "metadata": {},
   "source": [
    "Summarizing benchmarking results"
   ]
  },
  {
   "cell_type": "code",
   "execution_count": 6,
   "metadata": {},
   "outputs": [
    {
     "name": "stdout",
     "output_type": "stream",
     "text": [
      "\n",
      "Tabulate Latex:\n",
      "\\begin{tabular}{lrrrr}\n",
      "\\hline\n",
      " model           &   test acc &   train acc &   \\# copies  &   \\# trainable params \\\\\n",
      "\\hline\n",
      " QCNN\\_Base       &          0 &           0 &           0 &                    0 \\\\\n",
      " QCNN\\_ZNOTY      &          0 &           0 &           0 &                    0 \\\\\n",
      " Classical\\_NN    &          0 &           0 &           0 &                    0 \\\\\n",
      " QCNN\\_Pure       &          0 &           0 &           0 &                    0 \\\\\n",
      " QCNN\\_Shared     &          0 &           0 &           0 &                    0 \\\\\n",
      " QCNN\\_Diff       &          0 &           0 &           0 &                    0 \\\\\n",
      " QCNN\\_ZNOTY\\_Diff &          0 &           0 &           0 &                    0 \\\\\n",
      "\\hline\n",
      "\\end{tabular}\n"
     ]
    }
   ],
   "source": [
    "rows = [['model', 'test acc', 'train acc', '# copies ', '# trainable params']]\n",
    "table = Texttable()\n",
    "table.set_cols_align([\"c\"] * 5)\n",
    "table.set_deco(Texttable.HEADER | Texttable.VLINES)\n",
    "\n",
    "for i, network in enumerate(models_to_benchmark):\n",
    "    row = [str(network.__name__), str(test_acc[i]), str(train_acc[i]),str(0), str(0)]\n",
    "    rows.append(row)\n",
    "\n",
    "table.add_rows(rows)\n",
    "\n",
    "print('\\nTabulate Latex:')\n",
    "print(tabulate(rows, headers='firstrow', tablefmt='latex'))"
   ]
  },
  {
   "attachments": {},
   "cell_type": "markdown",
   "metadata": {},
   "source": [
    "### Testing the trained model"
   ]
  },
  {
   "cell_type": "code",
   "execution_count": 3,
   "metadata": {},
   "outputs": [
    {
     "name": "stdout",
     "output_type": "stream",
     "text": [
      "0.64\n"
     ]
    }
   ],
   "source": [
    "preds, accuracy = test(model, test_load, test_lab)\n",
    "print(accuracy)"
   ]
  },
  {
   "attachments": {},
   "cell_type": "markdown",
   "metadata": {},
   "source": [
    "### Plot results and visualize phase diagram"
   ]
  },
  {
   "cell_type": "code",
   "execution_count": 4,
   "metadata": {},
   "outputs": [
    {
     "data": {
      "text/plain": [
       "Text(0.5, 1.0, 'QCNN classification (1 = trivial, 0 = topological)')"
      ]
     },
     "execution_count": 4,
     "metadata": {},
     "output_type": "execute_result"
    },
    {
     "data": {
      "image/png": "[encoded data removed]",
      "text/plain": [
       "<Figure size 640x480 with 2 Axes>"
      ]
     },
     "metadata": {},
     "output_type": "display_data"
    }
   ],
   "source": [
    "f, ax = plt.subplots()\n",
    "phis = []\n",
    "thetas = []\n",
    "pred_s = []\n",
    "for i, angles in enumerate(test_load):\n",
    "    pred = preds[i].detach().numpy()\n",
    "    theta = angles[0].detach().numpy()\n",
    "    phi = angles[1].detach().numpy()\n",
    "    phis.append(phi)\n",
    "    thetas.append(theta)\n",
    "    pred_s.append(pred)\n",
    "\n",
    "points = ax.scatter(phis, thetas, c=pred_s,cmap='plasma')\n",
    "f.colorbar(points)\n",
    "ax.plot(np.linspace(0, np.pi/4, 50), np.linspace(0, np.pi/4, 50), c = 'k')\n",
    "ax.plot(np.linspace(np.pi/4, np.pi/2, 50), np.ones(50)*np.pi/2-np.linspace(np.pi/4, np.pi/2, 50), c = 'k')\n",
    "ax.set_xlabel(r'$\\phi$')\n",
    "ax.set_ylabel(r'$\\theta$')\n",
    "ax.set_title('QCNN classification (1 = trivial, 0 = topological)')"
   ]
  },
  {
   "cell_type": "code",
   "execution_count": 5,
   "metadata": {},
   "outputs": [],
   "source": [
    "# qiskit_circuit = op_history2qasm(qdev.n_wires, qdev.op_history)"
   ]
  }
 ],
 "metadata": {
  "kernelspec": {
   "display_name": "dl_env",
   "language": "python",
   "name": "python3"
  },
  "language_info": {
   "codemirror_mode": {
    "name": "ipython",
    "version": 3
   },
   "file_extension": ".py",
   "mimetype": "text/x-python",
   "name": "python",
   "nbconvert_exporter": "python",
   "pygments_lexer": "ipython3",
   "version": "3.10.9"
  },
  "orig_nbformat": 4,
  "vscode": {
   "interpreter": {
    "hash": "bbb4cb8cb7b94739613f73493b7f4abcb410d9b57e31a454f506d8570b91ae16"
   }
  }
 },
 "nbformat": 4,
 "nbformat_minor": 2
}
